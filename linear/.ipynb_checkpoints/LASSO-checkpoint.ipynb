{
 "cells": [
  {
   "cell_type": "code",
   "execution_count": 1,
   "metadata": {},
   "outputs": [],
   "source": [
    "import numpy as np \n",
    "import pandas as pd \n",
    "import matplotlib.pyplot as plt \n",
    "from sklearn import metrics\n",
    "eps = np.finfo(float).eps"
   ]
  },
  {
   "cell_type": "code",
   "execution_count": 2,
   "metadata": {},
   "outputs": [],
   "source": [
    "max_epochs = 200\n",
    "lamb_const = 1e-3\n",
    "bsize = 442"
   ]
  },
  {
   "cell_type": "code",
   "execution_count": 3,
   "metadata": {},
   "outputs": [],
   "source": [
    "from sklearn import datasets\n",
    "diabetes = datasets.load_diabetes()\n",
    "X, y = diabetes.data, diabetes.target\n",
    "# whitening\n",
    "X = (X - np.mean(X, axis=0)) / np.std(X, axis=0)"
   ]
  },
  {
   "cell_type": "code",
   "execution_count": 4,
   "metadata": {},
   "outputs": [],
   "source": [
    "X = X[:, np.newaxis, 2]\n",
    "# X = X[:, np.newaxis, :]"
   ]
  },
  {
   "cell_type": "code",
   "execution_count": 5,
   "metadata": {},
   "outputs": [],
   "source": [
    "ni, nd = X.shape\n",
    "X = np.append(X, np.ones((ni, 1)), axis=1) # append the bias/const term"
   ]
  },
  {
   "cell_type": "code",
   "execution_count": 6,
   "metadata": {},
   "outputs": [
    {
     "data": {
      "text/plain": [
       "(442, 2)"
      ]
     },
     "execution_count": 6,
     "metadata": {},
     "output_type": "execute_result"
    }
   ],
   "source": [
    "X.shape"
   ]
  },
  {
   "cell_type": "code",
   "execution_count": 7,
   "metadata": {},
   "outputs": [],
   "source": [
    "\"\"\"\n",
    "Init theta with ridge regression\n",
    "\"\"\"\n",
    "theta = np.matmul(np.matmul(np.linalg.inv(np.matmul(X.T, X) + lamb_const*np.diag(np.ones(nd+1))), X.T), y)"
   ]
  },
  {
   "cell_type": "code",
   "execution_count": 8,
   "metadata": {},
   "outputs": [],
   "source": [
    "# ind = 0\n",
    "# loss = 0\n",
    "# while ind < ni:\n",
    "#     end = ind + bsize if ind + bsize <= ni else ni\n",
    "#     bX = X[ind:end]\n",
    "#     by = y[ind:end]\n",
    "#     pred = np.matmul(bX, theta)\n",
    "#     loss += square_loss(pred, by, theta, lamb_const)\n",
    "\n",
    "#     for j in range(nd + 1): # for each dimension/feature\n",
    "#         a_j = 2.0 * (bX ** 2).sum(axis=0)\n",
    "#         y_pred = np.matmul(bX, theta)\n",
    "#         c_j = 2.0 * (bX * (by - y_pred + theta[j]*bX[:, j])).sum(axis=0)\n",
    "#         theta[j] = soft_thresholding(c_j/a_j, lamb_const/a_j)\n",
    "\n",
    "#     ind += bsize"
   ]
  },
  {
   "cell_type": "code",
   "execution_count": 9,
   "metadata": {},
   "outputs": [],
   "source": [
    "def soft_thresholding(a, delta):\n",
    "\t\"\"\"\n",
    "\teq. (13.56) in Murphy.\n",
    "\t\"\"\"\n",
    "\tsign_a = np.sign(a)\n",
    "\tres = sign_a*np.maximum(np.abs(a) - delta, 0)\n",
    "\treturn res\n",
    "\n",
    "def hard_thresholding(c_j, a_j, lamb_const):\n",
    "\t\"\"\"\n",
    "\tpage.434 in Murphy.\n",
    "\t\"\"\"\n",
    "\tif np.abs(c_j) < lamb_const:\n",
    "\t\tres = 0.0\n",
    "\telse:\n",
    "\t\tres = c_j / a_j \n",
    "\treturn res\n",
    "\n",
    "def square_loss(pred, yin, theta, lamb_const):\n",
    "\t\"\"\"\n",
    "\tA typical L2 norm aka. square error with an L1 regularization term.\n",
    "\t\"\"\"\n",
    "\ty = yin.copy()\n",
    "\treturn np.linalg.norm(pred - y, ord=2) + lamb_const * np.linalg.norm(theta, ord=1)"
   ]
  },
  {
   "cell_type": "code",
   "execution_count": 10,
   "metadata": {},
   "outputs": [],
   "source": [
    "ind = 0\n",
    "loss = 0\n",
    "end = ind + bsize if ind + bsize <= ni else ni\n",
    "bX = X[ind:end]\n",
    "by = y[ind:end]\n",
    "pred = np.matmul(bX, theta)\n",
    "loss += square_loss(pred, by, theta, lamb_const)"
   ]
  },
  {
   "cell_type": "code",
   "execution_count": 13,
   "metadata": {},
   "outputs": [
    {
     "name": "stdout",
     "output_type": "stream",
     "text": [
      "[Debug] c_j:39921.46653808904 a_j:42.047592083257285 res:949.4352366014596\n",
      "[Debug] c_j:134486.00000000006 a_j:42.04759208325728 res:3198.423318360491\n"
     ]
    }
   ],
   "source": [
    "for j in range(nd + 1): # for each dimension/feature\n",
    "    a_j = 2.0 * np.linalg.norm(bX[:, j], ord=2)\n",
    "    w = theta[j]\n",
    "    # theta[j] = 0\n",
    "    # bXi = bX.copy()\n",
    "    # bXi[:, j] = 0\n",
    "    y_pred = np.matmul(bX, theta)\n",
    "    c_j = 2.0 * (np.matmul(bX[:, j].T, by - y_pred + w*bX[:, j])).sum(axis=0)\n",
    "    if c_j == 0 or a_j == 0:\n",
    "        theta[j] = w\n",
    "    else:\n",
    "        res = soft_thresholding(c_j/a_j, lamb_const/a_j)\n",
    "        print('[Debug] c_j:{} a_j:{} res:{}'.format(c_j, a_j, res))\n",
    "        theta[j] = res\n",
    "\n",
    "ind += bsize"
   ]
  },
  {
   "cell_type": "code",
   "execution_count": 12,
   "metadata": {},
   "outputs": [
    {
     "data": {
      "text/plain": [
       "array([ 949.4352366 , 3198.42331836])"
      ]
     },
     "execution_count": 12,
     "metadata": {},
     "output_type": "execute_result"
    }
   ],
   "source": [
    "theta"
   ]
  },
  {
   "cell_type": "code",
   "execution_count": 27,
   "metadata": {},
   "outputs": [
    {
     "data": {
      "text/plain": [
       "66823.73144011518"
      ]
     },
     "execution_count": 27,
     "metadata": {},
     "output_type": "execute_result"
    }
   ],
   "source": [
    "loss"
   ]
  },
  {
   "cell_type": "code",
   "execution_count": 16,
   "metadata": {},
   "outputs": [],
   "source": [
    "j = 0"
   ]
  },
  {
   "cell_type": "code",
   "execution_count": 17,
   "metadata": {},
   "outputs": [],
   "source": [
    "a_j = 2.0 * (bX[:, j] ** 2).sum(axis=0)"
   ]
  },
  {
   "cell_type": "code",
   "execution_count": 18,
   "metadata": {},
   "outputs": [
    {
     "data": {
      "text/plain": [
       "()"
      ]
     },
     "execution_count": 18,
     "metadata": {},
     "output_type": "execute_result"
    }
   ],
   "source": [
    "a_j.shape"
   ]
  },
  {
   "cell_type": "code",
   "execution_count": 19,
   "metadata": {},
   "outputs": [],
   "source": [
    "y_pred = np.matmul(bX, theta)"
   ]
  },
  {
   "cell_type": "code",
   "execution_count": 20,
   "metadata": {},
   "outputs": [
    {
     "data": {
      "text/plain": [
       "(16,)"
      ]
     },
     "execution_count": 20,
     "metadata": {},
     "output_type": "execute_result"
    }
   ],
   "source": [
    "y_pred.shape"
   ]
  },
  {
   "cell_type": "code",
   "execution_count": 24,
   "metadata": {},
   "outputs": [],
   "source": [
    "c_j = 2.0 * (np.matmul(by - y_pred + theta[j]*bX[:, j], bX[:, j])).sum(axis=0)"
   ]
  },
  {
   "cell_type": "code",
   "execution_count": 23,
   "metadata": {},
   "outputs": [
    {
     "data": {
      "text/plain": [
       "(16,)"
      ]
     },
     "execution_count": 23,
     "metadata": {},
     "output_type": "execute_result"
    }
   ],
   "source": [
    "(by - y_pred + theta[j]*bX[:, j]).shape"
   ]
  },
  {
   "cell_type": "code",
   "execution_count": 25,
   "metadata": {},
   "outputs": [
    {
     "data": {
      "text/plain": [
       "()"
      ]
     },
     "execution_count": 25,
     "metadata": {},
     "output_type": "execute_result"
    }
   ],
   "source": [
    "c_j.shape"
   ]
  },
  {
   "cell_type": "code",
   "execution_count": 26,
   "metadata": {},
   "outputs": [
    {
     "data": {
      "text/plain": [
       "(2,)"
      ]
     },
     "execution_count": 26,
     "metadata": {},
     "output_type": "execute_result"
    }
   ],
   "source": [
    "theta.shape"
   ]
  },
  {
   "cell_type": "code",
   "execution_count": 27,
   "metadata": {},
   "outputs": [
    {
     "data": {
      "text/plain": [
       "158.56956138970622"
      ]
     },
     "execution_count": 27,
     "metadata": {},
     "output_type": "execute_result"
    }
   ],
   "source": [
    "c_j"
   ]
  },
  {
   "cell_type": "code",
   "execution_count": 28,
   "metadata": {},
   "outputs": [
    {
     "data": {
      "text/plain": [
       "24.976649621377184"
      ]
     },
     "execution_count": 28,
     "metadata": {},
     "output_type": "execute_result"
    }
   ],
   "source": [
    "a_j"
   ]
  },
  {
   "cell_type": "code",
   "execution_count": 29,
   "metadata": {},
   "outputs": [
    {
     "data": {
      "text/plain": [
       "0.001"
      ]
     },
     "execution_count": 29,
     "metadata": {},
     "output_type": "execute_result"
    }
   ],
   "source": [
    "lamb_const"
   ]
  },
  {
   "cell_type": "code",
   "execution_count": 33,
   "metadata": {},
   "outputs": [],
   "source": [
    "res = soft_thresholding(c_j/a_j, lamb_const/a_j)"
   ]
  },
  {
   "cell_type": "code",
   "execution_count": 34,
   "metadata": {},
   "outputs": [
    {
     "data": {
      "text/plain": [
       "()"
      ]
     },
     "execution_count": 34,
     "metadata": {},
     "output_type": "execute_result"
    }
   ],
   "source": [
    "res.shape"
   ]
  },
  {
   "cell_type": "code",
   "execution_count": 35,
   "metadata": {},
   "outputs": [],
   "source": [
    "theta[j] = res"
   ]
  },
  {
   "cell_type": "code",
   "execution_count": 36,
   "metadata": {},
   "outputs": [
    {
     "data": {
      "text/plain": [
       "6.348672211583954"
      ]
     },
     "execution_count": 36,
     "metadata": {},
     "output_type": "execute_result"
    }
   ],
   "source": [
    "res"
   ]
  },
  {
   "cell_type": "code",
   "execution_count": 37,
   "metadata": {},
   "outputs": [
    {
     "data": {
      "text/plain": [
       "6.348712248979488"
      ]
     },
     "execution_count": 37,
     "metadata": {},
     "output_type": "execute_result"
    }
   ],
   "source": [
    "c_j/a_j"
   ]
  },
  {
   "cell_type": "code",
   "execution_count": null,
   "metadata": {},
   "outputs": [],
   "source": []
  },
  {
   "cell_type": "code",
   "execution_count": null,
   "metadata": {},
   "outputs": [],
   "source": []
  },
  {
   "cell_type": "code",
   "execution_count": null,
   "metadata": {},
   "outputs": [],
   "source": []
  }
 ],
 "metadata": {
  "kernelspec": {
   "display_name": "Python 3",
   "language": "python",
   "name": "python3"
  },
  "language_info": {
   "codemirror_mode": {
    "name": "ipython",
    "version": 3
   },
   "file_extension": ".py",
   "mimetype": "text/x-python",
   "name": "python",
   "nbconvert_exporter": "python",
   "pygments_lexer": "ipython3",
   "version": "3.8.5"
  }
 },
 "nbformat": 4,
 "nbformat_minor": 4
}
